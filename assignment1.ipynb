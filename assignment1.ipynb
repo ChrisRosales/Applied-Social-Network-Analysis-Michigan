{
 "cells": [
  {
   "cell_type": "markdown",
   "metadata": {
    "deletable": false,
    "editable": false,
    "nbgrader": {
     "cell_type": "markdown",
     "checksum": "bb4e2877f2f4b2e6ed4718d2893634c1",
     "grade": false,
     "grade_id": "cell-69c39b45a3de0dce",
     "locked": true,
     "schema_version": 3,
     "solution": false,
     "task": false
    }
   },
   "source": [
    "# Assignment 1 - Creating and Manipulating Graphs\n",
    "\n",
    "Eight employees at a small company were asked to choose 3 movies that they would most enjoy watching for the upcoming company movie night. These choices are stored in the file `assets/Employee_Movie_Choices.txt`.\n",
    "\n",
    "A second file, `assets/Employee_Relationships.txt`, has data on the relationships between different coworkers. \n",
    "\n",
    "The relationship score has value of `-100` (Enemies) to `+100` (Best Friends). A value of zero means the two employees haven't interacted or are indifferent.\n",
    "\n",
    "Both files are tab delimited."
   ]
  },
  {
   "cell_type": "code",
   "execution_count": 1,
   "metadata": {
    "deletable": false,
    "editable": false,
    "nbgrader": {
     "cell_type": "code",
     "checksum": "9ebfce92d32aebeb619da8610d22bbbf",
     "grade": false,
     "grade_id": "cell-880320d7430bc93c",
     "locked": true,
     "schema_version": 3,
     "solution": false,
     "task": false
    }
   },
   "outputs": [],
   "source": [
    "import networkx as nx\n",
    "import pandas as pd\n",
    "import numpy as np\n",
    "\n",
    "\n",
    "# This is the set of employees\n",
    "employees = set(['Pablo',\n",
    "                 'Lee',\n",
    "                 'Georgia',\n",
    "                 'Vincent',\n",
    "                 'Andy',\n",
    "                 'Frida',\n",
    "                 'Joan',\n",
    "                 'Claude'])\n",
    "\n",
    "# This is the set of movies\n",
    "movies = set(['The Shawshank Redemption',\n",
    "              'Forrest Gump',\n",
    "              'The Matrix',\n",
    "              'Anaconda',\n",
    "              'The Social Network',\n",
    "              'The Godfather',\n",
    "              'Monty Python and the Holy Grail',\n",
    "              'Snakes on a Plane',\n",
    "              'Kung Fu Panda',\n",
    "              'The Dark Knight',\n",
    "              'Mean Girls'])\n",
    "\n",
    "\n",
    "# you can use the following function to plot graphs\n",
    "# make sure to comment it out before submitting to the autograder\n",
    "def plot_graph(G, weight_name=None):\n",
    "    '''\n",
    "    G: a networkx G\n",
    "    weight_name: name of the attribute for plotting edge weights (if G is weighted)\n",
    "    '''\n",
    "    #%matplotlib notebook\n",
    "    import matplotlib.pyplot as plt\n",
    "    \n",
    "    plt.figure()\n",
    "    pos = nx.spring_layout(G)\n",
    "    edges = G.edges()\n",
    "    weights = None\n",
    "    \n",
    "    if weight_name:\n",
    "        weights = [int(G[u][v][weight_name]) for u,v in edges]\n",
    "        labels = nx.get_edge_attributes(G,weight_name)\n",
    "        nx.draw_networkx_edge_labels(G,pos,edge_labels=labels)\n",
    "        nx.draw_networkx(G, pos, width=weights);\n",
    "    else:\n",
    "        nx.draw_networkx(G, pos,);"
   ]
  },
  {
   "cell_type": "markdown",
   "metadata": {
    "deletable": false,
    "editable": false,
    "nbgrader": {
     "cell_type": "markdown",
     "checksum": "0b6347bb31ef371bbca723a98ae77ab3",
     "grade": false,
     "grade_id": "cell-1790d513ed5dcd72",
     "locked": true,
     "schema_version": 3,
     "solution": false,
     "task": false
    }
   },
   "source": [
    "### Question 1\n",
    "\n",
    "Using NetworkX, load in the bipartite graph from `assets/Employee_Movie_Choices.txt` and return that graph.\n",
    "\n",
    "*This function should return a bipartite networkx graph with 19 nodes and 24 edges*"
   ]
  },
  {
   "cell_type": "code",
   "execution_count": 4,
   "metadata": {
    "deletable": false,
    "nbgrader": {
     "cell_type": "code",
     "checksum": "e1d9e71e3686a4633566908ab722faab",
     "grade": false,
     "grade_id": "cell-e815deb246dc7c0f",
     "locked": false,
     "schema_version": 3,
     "solution": true,
     "task": false
    }
   },
   "outputs": [
    {
     "name": "stdout",
     "output_type": "stream",
     "text": [
      "Número de nodos: 19\n",
      "Número de aristas: 24\n"
     ]
    }
   ],
   "source": [
    "import networkx as nx\n",
    "import pandas as pd\n",
    "\n",
    "def answer_one():\n",
    "    # Leer el archivo Employee_Movie_Choices.txt\n",
    "    movie_choices_df = pd.read_csv('assets/Employee_Movie_Choices.txt', delimiter='\\t')\n",
    "    \n",
    "    # Crear un grafo bipartito\n",
    "    B = nx.Graph()\n",
    "    \n",
    "    # Añadir los nodos de los empleados (grupo 0)\n",
    "    employees = set(movie_choices_df['#Employee'])  # Corregido a #Employee\n",
    "    B.add_nodes_from(employees, bipartite=0)\n",
    "    \n",
    "    # Añadir los nodos de las películas (grupo 1)\n",
    "    movies = set(movie_choices_df['Movie'])\n",
    "    B.add_nodes_from(movies, bipartite=1)\n",
    "    \n",
    "    # Añadir las aristas entre empleados y sus elecciones de películas\n",
    "    for index, row in movie_choices_df.iterrows():\n",
    "        employee = row['#Employee']  # Corregido a #Employee\n",
    "        movie = row['Movie']\n",
    "        B.add_edge(employee, movie)\n",
    "    \n",
    "    return B\n",
    "\n",
    "# Llamada a la función para verificar el grafo\n",
    "graph = answer_one()\n",
    "print(f\"Número de nodos: {graph.number_of_nodes()}\")\n",
    "print(f\"Número de aristas: {graph.number_of_edges()}\")"
   ]
  },
  {
   "cell_type": "code",
   "execution_count": 5,
   "metadata": {
    "deletable": false,
    "editable": false,
    "nbgrader": {
     "cell_type": "code",
     "checksum": "3f8a6334e337a41d20d03f2f8695869b",
     "grade": true,
     "grade_id": "cell-029237261317f603",
     "locked": true,
     "points": 2,
     "schema_version": 3,
     "solution": false,
     "task": false
    }
   },
   "outputs": [],
   "source": [
    "assert type(answer_one()) == nx.Graph , \"Your return type should be a Graph object\"\n",
    "\n"
   ]
  },
  {
   "cell_type": "markdown",
   "metadata": {
    "deletable": false,
    "editable": false,
    "nbgrader": {
     "cell_type": "markdown",
     "checksum": "31d0ec5303fd9cc6e60cd483df78a3c5",
     "grade": false,
     "grade_id": "cell-249394e1cc31d0ca",
     "locked": true,
     "schema_version": 3,
     "solution": false,
     "task": false
    }
   },
   "source": [
    "### Question 2\n",
    "\n",
    "Using the graph from the previous question, add nodes attributes named `'type'` where movies have the value `'movie'` and employees have the value `'employee'` and return that graph.\n",
    "\n",
    "*This function should return a bipartite networkx graph with node attributes `{'type': 'movie'}` or `{'type': 'employee'}`*"
   ]
  },
  {
   "cell_type": "code",
   "execution_count": 6,
   "metadata": {
    "deletable": false,
    "nbgrader": {
     "cell_type": "code",
     "checksum": "c94a82f1cdebf5de6a596a3d7574e7cd",
     "grade": false,
     "grade_id": "cell-4e6cd02626012f3d",
     "locked": false,
     "schema_version": 3,
     "solution": true,
     "task": false
    }
   },
   "outputs": [
    {
     "name": "stdout",
     "output_type": "stream",
     "text": [
      "Claude: {'bipartite': 0, 'type': 'employee'}\n",
      "Vincent: {'bipartite': 0, 'type': 'employee'}\n",
      "Joan: {'bipartite': 0, 'type': 'employee'}\n",
      "Georgia: {'bipartite': 0, 'type': 'employee'}\n",
      "Frida: {'bipartite': 0, 'type': 'employee'}\n",
      "Lee: {'bipartite': 0, 'type': 'employee'}\n",
      "Pablo: {'bipartite': 0, 'type': 'employee'}\n",
      "Andy: {'bipartite': 0, 'type': 'employee'}\n",
      "Kung Fu Panda: {'bipartite': 1, 'type': 'movie'}\n",
      "Mean Girls: {'bipartite': 1, 'type': 'movie'}\n",
      "The Matrix: {'bipartite': 1, 'type': 'movie'}\n",
      "Snakes on a Plane: {'bipartite': 1, 'type': 'movie'}\n",
      "The Shawshank Redemption: {'bipartite': 1, 'type': 'movie'}\n",
      "The Dark Knight: {'bipartite': 1, 'type': 'movie'}\n",
      "The Godfather: {'bipartite': 1, 'type': 'movie'}\n",
      "Anaconda: {'bipartite': 1, 'type': 'movie'}\n",
      "The Social Network: {'bipartite': 1, 'type': 'movie'}\n",
      "Forrest Gump: {'bipartite': 1, 'type': 'movie'}\n",
      "Monty Python and the Holy Grail: {'bipartite': 1, 'type': 'movie'}\n"
     ]
    }
   ],
   "source": [
    "def answer_two():\n",
    "    # Obtener el grafo bipartito de la pregunta 1\n",
    "    B = answer_one()\n",
    "    \n",
    "    # Añadir atributos 'type' a los nodos\n",
    "    # Empleados tendrán el atributo {'type': 'employee'}\n",
    "    for node in B.nodes():\n",
    "        if node in employees:\n",
    "            B.nodes[node]['type'] = 'employee'\n",
    "        else:\n",
    "            B.nodes[node]['type'] = 'movie'\n",
    "    \n",
    "    return B\n",
    "\n",
    "# Llamada a la función para verificar los atributos\n",
    "graph_with_attributes = answer_two()\n",
    "\n",
    "# Imprimir algunos nodos y sus atributos para verificar\n",
    "for node, data in graph_with_attributes.nodes(data=True):\n",
    "    print(f\"{node}: {data}\")"
   ]
  },
  {
   "cell_type": "code",
   "execution_count": 7,
   "metadata": {
    "deletable": false,
    "editable": false,
    "nbgrader": {
     "cell_type": "code",
     "checksum": "6df8d9fd4f193c5997afafc0c55a4723",
     "grade": true,
     "grade_id": "cell-c0500f828d5662fb",
     "locked": true,
     "points": 2,
     "schema_version": 3,
     "solution": false,
     "task": false
    }
   },
   "outputs": [],
   "source": [
    "assert type(answer_two()) == nx.Graph , \"Your return type should be a Graph object\"\n"
   ]
  },
  {
   "cell_type": "markdown",
   "metadata": {
    "deletable": false,
    "editable": false,
    "nbgrader": {
     "cell_type": "markdown",
     "checksum": "eb66ee80f345c2a630a06e6535bdccc0",
     "grade": false,
     "grade_id": "cell-533037784f789d72",
     "locked": true,
     "schema_version": 3,
     "solution": false,
     "task": false
    }
   },
   "source": [
    "### Question 3\n",
    "\n",
    "Find a weighted projection of the graph from `answer_two` which tells us how many movies different pairs of employees have in common.\n",
    "\n",
    "*This function should return a weighted projected graph.*"
   ]
  },
  {
   "cell_type": "code",
   "execution_count": 9,
   "metadata": {
    "deletable": false,
    "nbgrader": {
     "cell_type": "code",
     "checksum": "6a379f240aa02023d75b7defe4b11416",
     "grade": false,
     "grade_id": "cell-e85f388dda0fc212",
     "locked": false,
     "schema_version": 3,
     "solution": true,
     "task": false
    }
   },
   "outputs": [
    {
     "name": "stdout",
     "output_type": "stream",
     "text": [
      "Claude - Georgia: 3\n",
      "Claude - Andy: 1\n",
      "Vincent - Frida: 2\n",
      "Vincent - Pablo: 1\n",
      "Joan - Lee: 3\n",
      "Joan - Andy: 1\n",
      "Georgia - Andy: 1\n",
      "Frida - Pablo: 2\n",
      "Frida - Andy: 1\n",
      "Lee - Andy: 1\n",
      "Pablo - Andy: 1\n"
     ]
    }
   ],
   "source": [
    "import networkx as nx\n",
    "from networkx.algorithms import bipartite\n",
    "\n",
    "def answer_three():\n",
    "    # Obtener el grafo bipartito con los atributos\n",
    "    B = answer_two()\n",
    "    \n",
    "    # Obtener el conjunto de empleados\n",
    "    employees = {n for n, d in B.nodes(data=True) if d['type'] == 'employee'}\n",
    "    \n",
    "    # Crear la proyección ponderada de los empleados\n",
    "    weighted_proj = bipartite.weighted_projected_graph(B, employees)\n",
    "    \n",
    "    return weighted_proj\n",
    "\n",
    "# Llamada a la función para verificar la proyección ponderada\n",
    "projected_graph = answer_three()\n",
    "\n",
    "# Imprimir los bordes y sus pesos para verificar\n",
    "for u, v, data in projected_graph.edges(data=True):\n",
    "    print(f\"{u} - {v}: {data['weight']}\")"
   ]
  },
  {
   "cell_type": "code",
   "execution_count": 10,
   "metadata": {
    "deletable": false,
    "editable": false,
    "nbgrader": {
     "cell_type": "code",
     "checksum": "f26f092b5bdb8dfe0331595b6c463ea4",
     "grade": false,
     "grade_id": "cell-6b4a16b4c1bab3d2",
     "locked": true,
     "schema_version": 3,
     "solution": false,
     "task": false
    }
   },
   "outputs": [
    {
     "data": {
      "text/plain": [
       "EdgeDataView([('Claude', 'Georgia', {'weight': 3}), ('Claude', 'Andy', {'weight': 1}), ('Vincent', 'Frida', {'weight': 2}), ('Vincent', 'Pablo', {'weight': 1}), ('Joan', 'Lee', {'weight': 3}), ('Joan', 'Andy', {'weight': 1}), ('Georgia', 'Andy', {'weight': 1}), ('Frida', 'Pablo', {'weight': 2}), ('Frida', 'Andy', {'weight': 1}), ('Lee', 'Andy', {'weight': 1}), ('Pablo', 'Andy', {'weight': 1})])"
      ]
     },
     "execution_count": 10,
     "metadata": {},
     "output_type": "execute_result"
    },
    {
     "data": {
      "image/png": "[encoded data removed]",
      "text/plain": [
       "<Figure size 640x480 with 1 Axes>"
      ]
     },
     "metadata": {},
     "output_type": "display_data"
    }
   ],
   "source": [
    "G = answer_three()\n",
    "plot_graph(G, weight_name=\"weight\")\n",
    "G.edges(data = True)"
   ]
  },
  {
   "cell_type": "code",
   "execution_count": 11,
   "metadata": {
    "deletable": false,
    "editable": false,
    "nbgrader": {
     "cell_type": "code",
     "checksum": "bfcb5ab968326a6601fb98510d7d61bd",
     "grade": true,
     "grade_id": "cell-2778b8d02bc4ca1c",
     "locked": true,
     "points": 1,
     "schema_version": 3,
     "solution": false,
     "task": false
    }
   },
   "outputs": [],
   "source": [
    "assert type(answer_three()) == nx.Graph , \"Your return type should be a Graph object\"\n"
   ]
  },
  {
   "cell_type": "markdown",
   "metadata": {
    "deletable": false,
    "editable": false,
    "nbgrader": {
     "cell_type": "markdown",
     "checksum": "f30fedf55c4d28936a56146e82a4318f",
     "grade": false,
     "grade_id": "cell-7334d98bbe114440",
     "locked": true,
     "schema_version": 3,
     "solution": false,
     "task": false
    }
   },
   "source": [
    "### Question 4\n",
    "\n",
    "Suppose you'd like to find out if people that have a high relationship score also like the same types of movies.\n",
    "\n",
    "Find the pearson correlation between employee relationship scores and the number of movies they have in common. If two employees have no movies in common it should be treated as a 0, not a missing value, and should be included in the correlation calculation.\n",
    "\n",
    "*This function should return a float.*"
   ]
  },
  {
   "cell_type": "code",
   "execution_count": 15,
   "metadata": {
    "deletable": false,
    "nbgrader": {
     "cell_type": "code",
     "checksum": "2b46a672ad43d429dc76893d15b8e76a",
     "grade": false,
     "grade_id": "cell-6c1b9a8d087e47c8",
     "locked": false,
     "schema_version": 3,
     "solution": true,
     "task": false
    }
   },
   "outputs": [
    {
     "name": "stdout",
     "output_type": "stream",
     "text": [
      "Correlación de Pearson: 0.7883962221733475\n"
     ]
    }
   ],
   "source": [
    "import pandas as pd\n",
    "import numpy as np\n",
    "from scipy.stats import pearsonr\n",
    "def answer_four():\n",
    "    # Obtener el grafo proyectado ponderado de empleados\n",
    "    projected_graph = answer_three()\n",
    "    \n",
    "    # Leer el archivo de relaciones entre empleados sin encabezados\n",
    "    relationships_df = pd.read_csv('assets/Employee_Relationships.txt', delimiter='\\t', header=None)\n",
    "    \n",
    "    # Asignar manualmente los nombres de las columnas\n",
    "    relationships_df.columns = ['Employee1', 'Employee2', 'Relationship']\n",
    "    \n",
    "    # Listas para almacenar los valores de comparación\n",
    "    common_movies = []\n",
    "    relationship_scores = []\n",
    "    \n",
    "    # Iterar sobre el DataFrame de relaciones para obtener los pares de empleados y sus puntuaciones\n",
    "    for index, row in relationships_df.iterrows():\n",
    "        employee1 = row['Employee1']\n",
    "        employee2 = row['Employee2']\n",
    "        relationship_score = row['Relationship']\n",
    "        \n",
    "        # Verificar si hay una arista en el grafo proyectado (número de películas en común)\n",
    "        if projected_graph.has_edge(employee1, employee2):\n",
    "            common_movies.append(projected_graph[employee1][employee2]['weight'])\n",
    "        else:\n",
    "            # Si no hay una arista, significa que tienen 0 películas en común\n",
    "            common_movies.append(0)\n",
    "        \n",
    "        # Añadir la puntuación de relación correspondiente\n",
    "        relationship_scores.append(relationship_score)\n",
    "    \n",
    "    # Calcular la correlación de Pearson\n",
    "    correlation, _ = pearsonr(common_movies, relationship_scores)\n",
    "    \n",
    "    return correlation\n",
    "\n",
    "# Llamada a la función para verificar la correlación\n",
    "correlation_value = answer_four()\n",
    "print(f\"Correlación de Pearson: {correlation_value}\")"
   ]
  },
  {
   "cell_type": "code",
   "execution_count": 16,
   "metadata": {
    "deletable": false,
    "editable": false,
    "nbgrader": {
     "cell_type": "code",
     "checksum": "a77b0d29ae15deba7b0ad67c71334004",
     "grade": true,
     "grade_id": "cell-b7b288e5ac139702",
     "locked": true,
     "points": 4,
     "schema_version": 3,
     "solution": false,
     "task": false
    }
   },
   "outputs": [],
   "source": [
    "ans_four = answer_four()"
   ]
  },
  {
   "cell_type": "code",
   "execution_count": null,
   "metadata": {},
   "outputs": [],
   "source": []
  }
 ],
 "metadata": {
  "anaconda-cloud": {},
  "kernelspec": {
   "display_name": "Python 3 (ipykernel)",
   "language": "python",
   "name": "python3"
  },
  "language_info": {
   "codemirror_mode": {
    "name": "ipython",
    "version": 3
   },
   "file_extension": ".py",
   "mimetype": "text/x-python",
   "name": "python",
   "nbconvert_exporter": "python",
   "pygments_lexer": "ipython3",
   "version": "3.9.13"
  }
 },
 "nbformat": 4,
 "nbformat_minor": 4
}
